{
 "cells": [
  {
   "cell_type": "markdown",
   "id": "1e2ef1e5",
   "metadata": {},
   "source": [
    "# Project 2.0, Rock Paper Scissor"
   ]
  },
  {
   "cell_type": "code",
   "execution_count": 60,
   "id": "8a84bd57",
   "metadata": {},
   "outputs": [
    {
     "name": "stdout",
     "output_type": "stream",
     "text": [
      "******************************\n",
      "Let's play Rock Paper Scissor!\n",
      "\n",
      "player 1 select rock/paper/scissor: paper\n",
      "player 2 select rock/paper/scissor: scissor\n",
      "----------\n",
      "\n",
      "Player 2 won!\n",
      "\n",
      "******************************\n"
     ]
    }
   ],
   "source": [
    "print(\"*\"*30)\n",
    "print (\"Let's play Rock Paper Scissor!\")\n",
    "a= str(input(\"\\n\" + \"Player 1 Select Rock/Paper/Scissor: \".casefold()))\n",
    "b= str(input(\"Player 2 select Rock/Paper/Scissor: \".casefold()))\n",
    "print(\"-\"*10+\"\\n\")\n",
    "\n",
    "##tie statement\n",
    "if a==b:\n",
    "    print (\"\\n\" + \"It's a Tie!\")\n",
    "    \n",
    "##Player 1 statements\n",
    "elif a==\"rock\"and b==\"Paper\":\n",
    "        print (\"Player 2 Won!\")\n",
    "elif a==\"rock\" and b==\"scissor\":\n",
    "    print (\"Player 1 won!\")\n",
    "elif a==\"paper\" and b== \"rock\":\n",
    "        print (\"Player 1 won!\")\n",
    "elif a==\"paper\" and b==\"scissor\":\n",
    "    print(\"Player 2 won!\")\n",
    "elif a==\"scissor\" and b==\"rock\":\n",
    "    print(\"Player 2 won!\")\n",
    "elif a==\"scissor\" and b==\"Paper\":\n",
    "        print (\"Player 1 won!\")\n",
    "        \n",
    "##Player 2 statements        \n",
    "elif b==\"rock\" and a==\"Paper\":\n",
    "        print(\"Player 1 won!\")\n",
    "elif b==\"rock\" and a==\"scissor\":\n",
    "    print(\"Player 2 won!\")\n",
    "elif b==\"paper\" and a==\"rock\":\n",
    "        print(\"Player 2 won!\")\n",
    "elif b==\"Paper\" and a==\"scissor\":\n",
    "    print(\"Player 1 Won\")\n",
    "elif b==\"scissor\" and a==\"paper\":\n",
    "        print(\"Player 2 Won!\")\n",
    "elif b==\"Scissor\" and a==\"rock\":\n",
    "    print (\"Player 1 won!\")\n",
    "    \n",
    "##Error statement    \n",
    "else:\n",
    "    print (\"Please enter a valid input!\")\n",
    "        \n",
    "print (\"\\n\"+ \"*\"*30)\n"
   ]
  },
  {
   "cell_type": "code",
   "execution_count": null,
   "id": "f617a5cf",
   "metadata": {},
   "outputs": [],
   "source": []
  }
 ],
 "metadata": {
  "kernelspec": {
   "display_name": "Python 3 (ipykernel)",
   "language": "python",
   "name": "python3"
  },
  "language_info": {
   "codemirror_mode": {
    "name": "ipython",
    "version": 3
   },
   "file_extension": ".py",
   "mimetype": "text/x-python",
   "name": "python",
   "nbconvert_exporter": "python",
   "pygments_lexer": "ipython3",
   "version": "3.9.12"
  }
 },
 "nbformat": 4,
 "nbformat_minor": 5
}
