{
 "cells": [
  {
   "cell_type": "code",
   "execution_count": 120,
   "id": "4a212a49",
   "metadata": {},
   "outputs": [
    {
     "name": "stdout",
     "output_type": "stream",
     "text": [
      "______________Calculator________________\n",
      "\n",
      "First number892.786\n",
      "What do you want to do: add, subtract, divide, multiply \n",
      "-\n",
      "Second number \n",
      "322.4\n",
      "\n",
      " The result is 88.0\n",
      "__________________________________________________\n"
     ]
    }
   ],
   "source": [
    "print (\"______________Calculator________________\\n\")\n",
    "\n",
    "a = float(input(\"First number\"))\n",
    "operator = str(input(\"What do you want to do: add, subtract, divide, multiply \\n\"))\n",
    "b = float(input(\"Second number \\n\"))\n",
    "\n",
    "def cal():\n",
    "    if operator == \"add\" or \"+\":\n",
    "            res = (a+b)\n",
    "    elif operaor == \"subtract\" or \"-\":\n",
    "            res = (a-b)\n",
    "    elif operator == \"divide\" or \"/\":\n",
    "            res = (a/b)\n",
    "    elif operator == \"multiply\" or \"*\" \"X\":\n",
    "            res = (a*b)\n",
    "    else:\n",
    "        print (\"Enter a valid input\")\n",
    "        \n",
    "print (\"\\nThe result is\", str(res))\n",
    "\n",
    "print (\"_\"*50)\n",
    "\n",
    "cal()\n",
    "\n",
    "\n",
    "\n"
   ]
  },
  {
   "cell_type": "code",
   "execution_count": null,
   "id": "72e63468",
   "metadata": {},
   "outputs": [],
   "source": []
  },
  {
   "cell_type": "code",
   "execution_count": null,
   "id": "6050533c",
   "metadata": {},
   "outputs": [],
   "source": []
  }
 ],
 "metadata": {
  "kernelspec": {
   "display_name": "Python 3 (ipykernel)",
   "language": "python",
   "name": "python3"
  },
  "language_info": {
   "codemirror_mode": {
    "name": "ipython",
    "version": 3
   },
   "file_extension": ".py",
   "mimetype": "text/x-python",
   "name": "python",
   "nbconvert_exporter": "python",
   "pygments_lexer": "ipython3",
   "version": "3.9.12"
  }
 },
 "nbformat": 4,
 "nbformat_minor": 5
}
