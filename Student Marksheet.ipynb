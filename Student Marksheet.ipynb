{
 "cells": [
  {
   "cell_type": "markdown",
   "id": "34dd6976",
   "metadata": {},
   "source": [
    "# Project 1.0 Student Portfolio"
   ]
  },
  {
   "cell_type": "code",
   "execution_count": null,
   "id": "288c8203",
   "metadata": {},
   "outputs": [
    {
     "name": "stdout",
     "output_type": "stream",
     "text": [
      "Students Marksheet\n",
      "\n",
      "**************************************************\n"
     ]
    }
   ],
   "source": [
    "# Take Input from user and make a marksheet\n",
    "\n",
    "print (\"Students Marksheet\")\n",
    "print(\"\\n\"+\"*\"*50)\n",
    "name = str(input(\"Full Name: \"))\n",
    "rollno = int(input(\"Roll number here: \"))\n",
    "sub1 = int(input(\"English: \"))\n",
    "sub2 = int (input(\"Hindi: \"))\n",
    "sub3 = int (input (\"Science: \"))\n",
    "sub4 = int(input(\"Maths: \"))\n",
    "sub5 = int (input(\"Sanskrit: \"))\n",
    "total =(sub1+sub2+sub3+sub4+sub5)\n",
    "percentage = (total/500)*100\n",
    "\n",
    "print (\"\\n\" \"Hi \" + name.upper()+ \"!\")\n",
    "print (\"Your Total marks are: \" + str(total))\n",
    "print (\"Your Percentage is: \" + str(percentage))\n",
    "if percentage>=60:\n",
    "    print(\"Congratulations! You have Passed.\")\n",
    "else:\n",
    "    print (\"Sorry. You Failed.\")\n",
    "print(\"*\"*50)\n",
    "\n",
    "\n",
    "\n",
    "\n",
    "\n"
   ]
  },
  {
   "cell_type": "markdown",
   "id": "2960f2a4",
   "metadata": {},
   "source": [
    "# "
   ]
  },
  {
   "cell_type": "code",
   "execution_count": null,
   "id": "ab0347a4",
   "metadata": {},
   "outputs": [],
   "source": []
  },
  {
   "cell_type": "code",
   "execution_count": null,
   "id": "d8b10172",
   "metadata": {},
   "outputs": [],
   "source": []
  },
  {
   "cell_type": "code",
   "execution_count": null,
   "id": "e4489970",
   "metadata": {},
   "outputs": [],
   "source": []
  }
 ],
 "metadata": {
  "kernelspec": {
   "display_name": "Python 3 (ipykernel)",
   "language": "python",
   "name": "python3"
  },
  "language_info": {
   "codemirror_mode": {
    "name": "ipython",
    "version": 3
   },
   "file_extension": ".py",
   "mimetype": "text/x-python",
   "name": "python",
   "nbconvert_exporter": "python",
   "pygments_lexer": "ipython3",
   "version": "3.9.12"
  }
 },
 "nbformat": 4,
 "nbformat_minor": 5
}
