{
 "cells": [
  {
   "cell_type": "markdown",
   "id": "ddc72502",
   "metadata": {},
   "source": [
    "# Project 3.0 Multiplication Table"
   ]
  },
  {
   "cell_type": "code",
   "execution_count": 66,
   "id": "1aa89089",
   "metadata": {},
   "outputs": [
    {
     "name": "stdout",
     "output_type": "stream",
     "text": [
      "--------------------\n",
      "Multiplication Table\n",
      "--------------------\n",
      "Display the Multiplication table of: 25\n",
      "25  X  1  =  25\n",
      "25  X  2  =  50\n",
      "25  X  3  =  75\n",
      "25  X  4  =  100\n",
      "25  X  5  =  125\n",
      "25  X  6  =  150\n",
      "25  X  7  =  175\n",
      "25  X  8  =  200\n",
      "25  X  9  =  225\n",
      "25  X  10  =  250\n",
      "25  X  11  =  275\n",
      "25  X  12  =  300\n",
      "--------------------\n"
     ]
    }
   ],
   "source": [
    "print (\"-\"*20)\n",
    "print (\"Multiplication Table\")\n",
    "print (\"-\"*20)\n",
    "num= int(input(\"Display the Multiplication table of: \"))\n",
    "multiple = 1\n",
    "\n",
    "while multiple<13:\n",
    "    print (num,\" X \",multiple,\" = \",num*multiple)\n",
    "    multiple=multiple + 1\n",
    "print (\"-\"*20)"
   ]
  }
 ],
 "metadata": {
  "kernelspec": {
   "display_name": "Python 3 (ipykernel)",
   "language": "python",
   "name": "python3"
  },
  "language_info": {
   "codemirror_mode": {
    "name": "ipython",
    "version": 3
   },
   "file_extension": ".py",
   "mimetype": "text/x-python",
   "name": "python",
   "nbconvert_exporter": "python",
   "pygments_lexer": "ipython3",
   "version": "3.9.12"
  }
 },
 "nbformat": 4,
 "nbformat_minor": 5
}
